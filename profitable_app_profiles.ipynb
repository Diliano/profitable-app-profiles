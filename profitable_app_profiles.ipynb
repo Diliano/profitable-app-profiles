{
 "cells": [
  {
   "cell_type": "markdown",
   "id": "ef3d95f1-636a-4675-9c37-5922819f5be9",
   "metadata": {},
   "source": [
    "# Profitable App Profiles for the App Store and Google Play Markets\n",
    "\n",
    "At our company, we build Android and iOS apps that are free to download and install. Our main revenue source is in-app ads and as such, the revenue of a given app is largely influenced by the number of users. \n",
    "\n",
    "The goal of this project is to explore and analyse information from the Google Play and App Store markets, in order to understand what type of apps are most likely to attract the most users.\n",
    "\n",
    "*The Google Play Store dataset and documentation can be found and downloaded [here](https://www.kaggle.com/datasets/lava18/google-play-store-apps)*\n",
    "\n",
    "*The Apple App Store dataset and documentation can be found and downloaded [here](https://www.kaggle.com/datasets/ramamet4/app-store-apple-data-set-10k-apps)*\n",
    "\n",
    "## Opening and exploring the data\n",
    "\n",
    "We'll start by opening and reading in each file, followed by transforming it into a list of lists. \n",
    "\n",
    "We then separate the header that contains each column title and the dataset that we will work from.\n",
    "\n",
    "*As can be read in the link above for the Google dataset, we have removed row 10472 as it is missing information.*"
   ]
  },
  {
   "cell_type": "code",
   "execution_count": 268,
   "id": "662e1d6a-cf98-4595-97e4-ce00a7affe5d",
   "metadata": {},
   "outputs": [],
   "source": [
    "from csv import reader\n",
    "\n",
    "# Read in the data\n",
    "opened_apple_file = open(\"AppleStore.csv\")\n",
    "read_apple_file = reader(opened_apple_file)\n",
    "\n",
    "# Transform read file into a list of lists\n",
    "apple_lists = list(read_apple_file)\n",
    "apple_header = apple_lists[0]    \n",
    "apple_dataset = apple_lists[1:]\n",
    "\n",
    "# Read in the data\n",
    "opened_google_file = open(\"googleplaystore.csv\")\n",
    "read_google_file = reader(opened_google_file)\n",
    "\n",
    "# Transform read file into a list of lists\n",
    "google_lists = list(read_google_file)\n",
    "google_header = google_lists[0]\n",
    "google_dataset = google_lists[1:]\n",
    "\n",
    "del google_dataset[10472]    # Removing incorrect row"
   ]
  },
  {
   "cell_type": "markdown",
   "id": "52b9a046-098f-4907-8aa9-356a9525add1",
   "metadata": {},
   "source": [
    "To make exploring the data easier, we have defined a function that allows us to select and display the entire dataset or segments of it. There is also additional functionality that shows us the total number of rows and columns in a given dataset.\n",
    "\n",
    "We'll then use the function to explore a segment of each dataset."
   ]
  },
  {
   "cell_type": "code",
   "execution_count": 269,
   "id": "47642024-6762-4f54-89b9-dc610e51dc5d",
   "metadata": {},
   "outputs": [
    {
     "name": "stdout",
     "output_type": "stream",
     "text": [
      "['id', 'track_name', 'size_bytes', 'currency', 'price', 'rating_count_tot', 'rating_count_ver', 'user_rating', 'user_rating_ver', 'ver', 'cont_rating', 'prime_genre', 'sup_devices.num', 'ipadSc_urls.num', 'lang.num', 'vpp_lic']\n",
      "\n",
      "\n",
      "['284882215', 'Facebook', '389879808', 'USD', '0.0', '2974676', '212', '3.5', '3.5', '95.0', '4+', 'Social Networking', '37', '1', '29', '1']\n",
      "\n",
      "\n",
      "['389801252', 'Instagram', '113954816', 'USD', '0.0', '2161558', '1289', '4.5', '4.0', '10.23', '12+', 'Photo & Video', '37', '0', '29', '1']\n",
      "\n",
      "\n",
      "['529479190', 'Clash of Clans', '116476928', 'USD', '0.0', '2130805', '579', '4.5', '4.5', '9.24.12', '9+', 'Games', '38', '5', '18', '1']\n",
      "\n",
      "\n",
      "Number of rows: 7197\n",
      "Number of columns: 16\n",
      "\n",
      "\n",
      "['App', 'Category', 'Rating', 'Reviews', 'Size', 'Installs', 'Type', 'Price', 'Content Rating', 'Genres', 'Last Updated', 'Current Ver', 'Android Ver']\n",
      "\n",
      "\n",
      "['Photo Editor & Candy Camera & Grid & ScrapBook', 'ART_AND_DESIGN', '4.1', '159', '19M', '10,000+', 'Free', '0', 'Everyone', 'Art & Design', 'January 7, 2018', '1.0.0', '4.0.3 and up']\n",
      "\n",
      "\n",
      "['Coloring book moana', 'ART_AND_DESIGN', '3.9', '967', '14M', '500,000+', 'Free', '0', 'Everyone', 'Art & Design;Pretend Play', 'January 15, 2018', '2.0.0', '4.0.3 and up']\n",
      "\n",
      "\n",
      "['U Launcher Lite – FREE Live Cool Themes, Hide Apps', 'ART_AND_DESIGN', '4.7', '87510', '8.7M', '5,000,000+', 'Free', '0', 'Everyone', 'Art & Design', 'August 1, 2018', '1.2.4', '4.0.3 and up']\n",
      "\n",
      "\n",
      "Number of rows: 10840\n",
      "Number of columns: 13\n"
     ]
    }
   ],
   "source": [
    "def explore_data(dataset, start, end, rows_and_columns=False):\n",
    "    dataset_slice = dataset[start:end]    \n",
    "    for row in dataset_slice:\n",
    "        print(row)\n",
    "        print('\\n') \n",
    "\n",
    "    if rows_and_columns:\n",
    "        print('Number of rows:', len(dataset))\n",
    "        print('Number of columns:', len(dataset[0]))\n",
    "\n",
    "print(apple_header)\n",
    "print(\"\\n\")\n",
    "explore_data(apple_dataset, 0, 3, True)\n",
    "print(\"\\n\")\n",
    "print(google_header)\n",
    "print(\"\\n\")\n",
    "explore_data(google_dataset, 0, 3, True)"
   ]
  },
  {
   "cell_type": "markdown",
   "id": "ae2e5c6a-1e42-4c6a-a2b9-e7782bd6abbf",
   "metadata": {},
   "source": [
    "## Duplicates\n",
    "\n",
    "The Google Play Store dataset has a number of duplicates. \n",
    "\n",
    "Below, we iterate through each row in the dataset, extracting the name of the application at each iteration. We use the name of the application to populate two lists, one for the uniques, and the other for duplicates.\n",
    "\n",
    "We then print the total number of duplicates and a few examples from the list."
   ]
  },
  {
   "cell_type": "code",
   "execution_count": 270,
   "id": "41d71dcd-a6db-4624-b11e-d2459da6cb29",
   "metadata": {},
   "outputs": [
    {
     "name": "stdout",
     "output_type": "stream",
     "text": [
      "The total number of duplicates is 1181\n",
      "\n",
      "\n",
      "Examples of duplicates include: ['Quick PDF Scanner + OCR FREE', 'Box', 'Google My Business', 'ZOOM Cloud Meetings', 'join.me - Simple Meetings', 'Box', 'Zenefits', 'Google Ads', 'Google My Business', 'Slack', 'FreshBooks Classic', 'Insightly CRM', 'QuickBooks Accounting: Invoicing & Expenses', 'HipChat - Chat Built for Teams', 'Xero Accounting Software', 'MailChimp - Email, Marketing Automation', 'Crew - Free Messaging and Scheduling', 'Asana: organize team projects', 'Google Analytics', 'AdWords Express']\n"
     ]
    }
   ],
   "source": [
    "google_uniques = []\n",
    "google_duplicates = []\n",
    "\n",
    "for row in google_dataset:\n",
    "    name = row[0]\n",
    "    if name in google_uniques:\n",
    "        google_duplicates.append(name)\n",
    "    else:\n",
    "        google_uniques.append(name)\n",
    "\n",
    "print(f\"The total number of duplicates is {len(google_duplicates)}\")\n",
    "print(\"\\n\")\n",
    "print(f\"Examples of duplicates include: {google_duplicates[:20]}\")"
   ]
  },
  {
   "cell_type": "markdown",
   "id": "c91a01b8-3399-465a-aaf2-7355f4c86822",
   "metadata": {},
   "source": [
    "## Removing duplicates\n",
    "\n",
    "The main difference between the duplicates is the number of reviews, indicating that the data was collected at different times. Rather than removing the duplicates randomly, we will use the number of reviews as our indicator. The higher the number of reviews, the more recent the data should be. Therefore, for each set of duplicates, we will keep the entry that has the highest number of reviews and remove all other duplicates. \n",
    "\n",
    "We start by initialising a dictionary to store the application names and their corresponding number of reviews. We iterate through each row in the dataset, and for each we may:\n",
    "\n",
    "- add the name and number of reviews to the dictionary, if the name is not already present in the dictionary\n",
    "- set the number of reviews in the dictionary to the number of reviews in our current iteration, if the name is already present in the dictionary AND the existing number of reviews in the dictionary is lower"
   ]
  },
  {
   "cell_type": "code",
   "execution_count": 271,
   "id": "7d72b7a1-59f9-4daf-ac1a-b20de3046a4b",
   "metadata": {},
   "outputs": [],
   "source": [
    "reviews_max = {}\n",
    "\n",
    "for row in google_dataset:\n",
    "    name = row[0]\n",
    "    n_reviews = float(row[3])\n",
    "\n",
    "    if name in reviews_max and reviews_max[name] < n_reviews:\n",
    "        reviews_max[name] = n_reviews\n",
    "\n",
    "    if name not in reviews_max:\n",
    "        reviews_max[name] = n_reviews    "
   ]
  },
  {
   "cell_type": "markdown",
   "id": "f92b16cb-1630-42c2-afd2-50a5f8ab9ddf",
   "metadata": {},
   "source": [
    "Next, we initialise an empty list for our cleaned data and an empty list for names already added to the cleaned data list.\n",
    "\n",
    "We then iterate through each row in the dataset. If the number of reviews in the current iteration matches the number of reviews in the dictionary created above AND the name is not already present in our already added list, we:\n",
    "\n",
    "- add the row to our cleaned data list\n",
    "- add the name to our already added list *(This prevents us adding duplicates where the number of reviews is the same)*"
   ]
  },
  {
   "cell_type": "code",
   "execution_count": 272,
   "id": "39d1d676-dbc4-4382-aa5e-04be280c898a",
   "metadata": {},
   "outputs": [],
   "source": [
    "google_clean = []\n",
    "already_added = []\n",
    "\n",
    "for row in google_dataset:\n",
    "    name = row[0]\n",
    "    n_reviews = float(row[3])\n",
    "\n",
    "    if reviews_max[name] == n_reviews and name not in already_added:\n",
    "        google_clean.append(row)\n",
    "        already_added.append(name)"
   ]
  },
  {
   "cell_type": "markdown",
   "id": "95a48a57-5a98-4295-8019-4e1f4cd9800a",
   "metadata": {},
   "source": [
    "## Non-English apps\n",
    "\n",
    "Currently, our company solely uses English for the apps we develop. As such, we'd like to analyse the apps that are designed for an English-speaking audience.\n",
    "\n",
    "Both datasets have apps with names that suggest they are not designed for an English-speaking audience. In relation to the ASCII system, the most commonly used English characters correspond with the range 0 to 127, however this does not account for symbols and emojis that may be used. \n",
    "\n",
    "We have defined a helper function to check whether an app name is likely to be for an English-speaking audience. To minimise the impact of data loss, we will only consider an app as non-English if there are more than 3 characters that fall out of the ASCII 0-127 range, helping us to account for a few symbols or emojis that may be found within an app name.\n",
    "\n",
    "The function:\n",
    "\n",
    "- iterates through each character of the given app name, checking if the ASCII value is more than 127 \n",
    "- tracks the number of characters that meet the condition\n",
    "- returns False if there are more than 3 characters that meet the condition, or returns True otherwise"
   ]
  },
  {
   "cell_type": "code",
   "execution_count": 273,
   "id": "b44731b3-b5b5-497d-b3fd-f595e3e3fcfe",
   "metadata": {},
   "outputs": [],
   "source": [
    "def is_english(string):\n",
    "    count = 0\n",
    "    \n",
    "    for c in string:\n",
    "        # the ord() function returns the number representing the unicode of the given character\n",
    "        if ord(c) > 127:    \n",
    "            count += 1\n",
    "\n",
    "    if count > 3:\n",
    "        return False\n",
    "    else:\n",
    "        return True"
   ]
  },
  {
   "cell_type": "markdown",
   "id": "54a33e17-a11b-4157-8441-c902c3bb0824",
   "metadata": {},
   "source": [
    "## Removing non-English apps\n",
    "\n",
    "To remove the non-English apps, we start by initialising two empty lists.\n",
    "\n",
    "We then iterate through each row for each dataset, using the helper function to check if the name of the app in the current iteration, results in an English or non-English app. \n",
    "\n",
    "Each English-app is added to their respective list, for either the Apple App Store or Google Play Store. "
   ]
  },
  {
   "cell_type": "code",
   "execution_count": 274,
   "id": "b97982ad-f478-4817-8caa-88fdd5a3d252",
   "metadata": {},
   "outputs": [],
   "source": [
    "apple_english = []\n",
    "google_english = []\n",
    "\n",
    "for row in apple_dataset:\n",
    "    name = row[1]\n",
    "\n",
    "    if is_english(name):\n",
    "        apple_english.append(row)\n",
    "\n",
    "for row in google_clean:\n",
    "    name = row[0]\n",
    "\n",
    "    if is_english(name):\n",
    "        google_english.append(row)"
   ]
  },
  {
   "cell_type": "markdown",
   "id": "97553fe2-481d-46ec-8fae-c26a5c66219f",
   "metadata": {},
   "source": [
    "## Isolating the free apps\n",
    "\n",
    "As we only build apps that are free to download and install, we want to isolate the free apps for our analysis.\n",
    "\n",
    "We start by initialising two empty lists for our final datasets.\n",
    "\n",
    "We then iterate through each row of each dataset, checking if the app is free. If so, it is added to the final dataset for their respective market.\n",
    "\n",
    "Finally, we print the total number of apps in each market."
   ]
  },
  {
   "cell_type": "code",
   "execution_count": 275,
   "id": "895281d9-c4e9-4e2b-88c1-acdea4e4daa4",
   "metadata": {},
   "outputs": [
    {
     "name": "stdout",
     "output_type": "stream",
     "text": [
      "We have 3222 iOS apps in our final Apple dataset\n",
      "We have 8864 Android apps in our final Google dataset\n"
     ]
    }
   ],
   "source": [
    "apple_final = []\n",
    "google_final = []\n",
    "\n",
    "for row in apple_english:\n",
    "    price = row[4]\n",
    "\n",
    "    if price == \"0.0\":\n",
    "        apple_final.append(row)\n",
    "\n",
    "for row in google_english:\n",
    "    price = row[7]\n",
    "\n",
    "    if price == \"0\":\n",
    "        google_final.append(row)\n",
    "\n",
    "print(f\"We have {len(apple_final)} iOS apps in our final Apple dataset\")\n",
    "print(f\"We have {len(google_final)} Android apps in our final Google dataset\")"
   ]
  },
  {
   "cell_type": "markdown",
   "id": "97f4e19e-5829-4be5-9736-707bdb55707f",
   "metadata": {},
   "source": [
    "## Most common apps by genre\n",
    "\n",
    "Our aim is to determine the types of apps that are likely to attract more users, as our revenue is highly influenced by the number of users. \n",
    "\n",
    "To minimise risks and overhead, our validation strategy for an app idea is compromised of three steps:\n",
    "\n",
    "1) Build a minimal Android version of the app, and add it to Google Play\n",
    "2) If the app has a good response from users, we'll develop it further\n",
    "3) If the app is profitable after six months, we build an iOS version of the app and add it to the App Store\n",
    "\n",
    "As our end goal is to add the app to both markets, we need to find app profiles that are successful on both. The columns that are most relevant are `prime_genre` for the Apple dataset and `Category` / `Genres` for the Google dataset.\n",
    "\n",
    "Below, we define two functions, `freq_table(dataset, index)` and `display_table(dataset, index)`.\n",
    "\n",
    "- The first generates a frequency table for the chosen column of a dataset. It iterates through each row of the dataset, using a dictionary to count the frequency for each value. It then converts the values to percentages of the overall column\n",
    "- The second uses our frequency table function and then iterates through the result, converting each key-value pair from the dictionary, into a tuple. We do this so that we can easily sort the percentages and then print them in our desired format"
   ]
  },
  {
   "cell_type": "code",
   "execution_count": 276,
   "id": "84785548-4089-4e98-b8b3-04b5f4ea5b02",
   "metadata": {},
   "outputs": [],
   "source": [
    "def freq_table(dataset, index):\n",
    "    freq_table = {}\n",
    "\n",
    "    for row in dataset:\n",
    "        value = row[index]\n",
    "\n",
    "        if value in freq_table:\n",
    "            freq_table[value] += 1\n",
    "        else:\n",
    "            freq_table[value] = 1\n",
    "\n",
    "    for key in freq_table:\n",
    "        freq_table[key] = (freq_table[key] / len(dataset)) * 100\n",
    "\n",
    "    return freq_table\n",
    "\n",
    "def display_table(dataset, index):\n",
    "    table = freq_table(dataset, index)\n",
    "    table_display = []\n",
    "    \n",
    "    for key in table:\n",
    "        key_val_as_tuple = (table[key], key)    # tuple created with value first, to enable sorting by value\n",
    "        table_display.append(key_val_as_tuple)\n",
    "\n",
    "    table_sorted = sorted(table_display, reverse = True)    # as above, sorted by value\n",
    "    \n",
    "    for entry in table_sorted:\n",
    "        print(entry[1], ':', entry[0])"
   ]
  },
  {
   "cell_type": "markdown",
   "id": "1b4d2bea-20e6-4ab3-8ff9-bf941d94fdd4",
   "metadata": {},
   "source": [
    "We begin by examining the `prime_genre` column of the Apple dataset."
   ]
  },
  {
   "cell_type": "code",
   "execution_count": 277,
   "id": "27d260b7-86d9-4f9a-8d82-c5efdc217ab2",
   "metadata": {},
   "outputs": [
    {
     "name": "stdout",
     "output_type": "stream",
     "text": [
      "Games : 58.16263190564867\n",
      "Entertainment : 7.883302296710118\n",
      "Photo & Video : 4.9658597144630665\n",
      "Education : 3.662321539416512\n",
      "Social Networking : 3.2898820608317814\n",
      "Shopping : 2.60707635009311\n",
      "Utilities : 2.5139664804469275\n",
      "Sports : 2.1415270018621975\n",
      "Music : 2.0484171322160147\n",
      "Health & Fitness : 2.0173805090006205\n",
      "Productivity : 1.7380509000620732\n",
      "Lifestyle : 1.5828677839851024\n",
      "News : 1.3345747982619491\n",
      "Travel : 1.2414649286157666\n",
      "Finance : 1.1173184357541899\n",
      "Weather : 0.8690254500310366\n",
      "Food & Drink : 0.8069522036002483\n",
      "Reference : 0.5586592178770949\n",
      "Business : 0.5276225946617008\n",
      "Book : 0.4345127250155183\n",
      "Navigation : 0.186219739292365\n",
      "Medical : 0.186219739292365\n",
      "Catalogs : 0.12414649286157665\n"
     ]
    }
   ],
   "source": [
    "display_table(apple_final, 11)"
   ]
  },
  {
   "cell_type": "markdown",
   "id": "9d57faac-9b0e-49d0-8a4e-2af02981f4f0",
   "metadata": {},
   "source": [
    "The most common genre we find is Games, covering 58.16% of the share of free English apps. Entertainment follows with 7.88&, Photo & Video with 4.97%, Education with 3.66% and then Social Networking with 3.29%. These genres form our top 5.\n",
    "\n",
    "The general impression is that most of the apps are designed for entertainment purposes (Games, Entertainment, Photo & Video, Social Networking etc), rather than practical purposes (Education, Utilities, Productivity, Finance etc). \n",
    "\n",
    "This may suggest that entertainment apps are the most popular, as they are created in the largest numbers, however this alone does not imply that they have a large number of users. \n",
    "\n",
    "Next, we'll examine the `Category` column of the Google dataset."
   ]
  },
  {
   "cell_type": "code",
   "execution_count": 278,
   "id": "997d0ae5-ef8c-47cb-b736-5a805143c4b7",
   "metadata": {},
   "outputs": [
    {
     "name": "stdout",
     "output_type": "stream",
     "text": [
      "FAMILY : 18.907942238267147\n",
      "GAME : 9.724729241877256\n",
      "TOOLS : 8.461191335740072\n",
      "BUSINESS : 4.591606498194946\n",
      "LIFESTYLE : 3.9034296028880866\n",
      "PRODUCTIVITY : 3.892148014440433\n",
      "FINANCE : 3.7003610108303246\n",
      "MEDICAL : 3.531137184115524\n",
      "SPORTS : 3.395758122743682\n",
      "PERSONALIZATION : 3.3167870036101084\n",
      "COMMUNICATION : 3.2378158844765346\n",
      "HEALTH_AND_FITNESS : 3.0798736462093865\n",
      "PHOTOGRAPHY : 2.944494584837545\n",
      "NEWS_AND_MAGAZINES : 2.7978339350180503\n",
      "SOCIAL : 2.6624548736462095\n",
      "TRAVEL_AND_LOCAL : 2.33528880866426\n",
      "SHOPPING : 2.2450361010830324\n",
      "BOOKS_AND_REFERENCE : 2.1435018050541514\n",
      "DATING : 1.861462093862816\n",
      "VIDEO_PLAYERS : 1.7937725631768955\n",
      "MAPS_AND_NAVIGATION : 1.3989169675090252\n",
      "FOOD_AND_DRINK : 1.2409747292418771\n",
      "EDUCATION : 1.1620036101083033\n",
      "ENTERTAINMENT : 0.9589350180505415\n",
      "LIBRARIES_AND_DEMO : 0.9363718411552346\n",
      "AUTO_AND_VEHICLES : 0.9250902527075812\n",
      "HOUSE_AND_HOME : 0.8235559566787004\n",
      "WEATHER : 0.8009927797833934\n",
      "EVENTS : 0.7107400722021661\n",
      "PARENTING : 0.6543321299638989\n",
      "ART_AND_DESIGN : 0.6430505415162455\n",
      "COMICS : 0.6204873646209386\n",
      "BEAUTY : 0.5979241877256317\n"
     ]
    }
   ],
   "source": [
    "display_table(google_final, 1)"
   ]
  },
  {
   "cell_type": "markdown",
   "id": "c7655a9a-893b-4ceb-b649-42db2e75d46e",
   "metadata": {},
   "source": [
    "The most common genre is Family, covering 18.91% of the free English apps. Game follows with 9.72%, Tools with 8.46%, Business with 4.59%, Lifestyle with 3.90% and Productivity with 3.89%. These genres form our top 5.\n",
    "\n",
    "Further investigation shows that the Family genre encompasses many games for children, leaving us the impression that games form the biggest share. This is in line with our findings from the Apple market, however there is a much larger share of apps for practical purposes in the Google market. \n",
    "\n",
    "As with the Apple market, our data indicates the most frequent genres in the Google market, however it does not confirm where the largest number of users fall.\n",
    "\n",
    "Finally, we'll examine the `Genres` column of the Google dataset."
   ]
  },
  {
   "cell_type": "code",
   "execution_count": 279,
   "id": "7cbc8515-7416-4567-bd7f-7bd883e09cc2",
   "metadata": {},
   "outputs": [
    {
     "name": "stdout",
     "output_type": "stream",
     "text": [
      "Tools : 8.449909747292418\n",
      "Entertainment : 6.069494584837545\n",
      "Education : 5.347472924187725\n",
      "Business : 4.591606498194946\n",
      "Productivity : 3.892148014440433\n",
      "Lifestyle : 3.892148014440433\n",
      "Finance : 3.7003610108303246\n",
      "Medical : 3.531137184115524\n",
      "Sports : 3.463447653429603\n",
      "Personalization : 3.3167870036101084\n",
      "Communication : 3.2378158844765346\n",
      "Action : 3.1024368231046933\n",
      "Health & Fitness : 3.0798736462093865\n",
      "Photography : 2.944494584837545\n",
      "News & Magazines : 2.7978339350180503\n",
      "Social : 2.6624548736462095\n",
      "Travel & Local : 2.3240072202166067\n",
      "Shopping : 2.2450361010830324\n",
      "Books & Reference : 2.1435018050541514\n",
      "Simulation : 2.0419675090252705\n",
      "Dating : 1.861462093862816\n",
      "Arcade : 1.8501805054151623\n",
      "Video Players & Editors : 1.7712093862815883\n",
      "Casual : 1.7599277978339352\n",
      "Maps & Navigation : 1.3989169675090252\n",
      "Food & Drink : 1.2409747292418771\n",
      "Puzzle : 1.128158844765343\n",
      "Racing : 0.9927797833935018\n",
      "Role Playing : 0.9363718411552346\n",
      "Libraries & Demo : 0.9363718411552346\n",
      "Auto & Vehicles : 0.9250902527075812\n",
      "Strategy : 0.9138086642599278\n",
      "House & Home : 0.8235559566787004\n",
      "Weather : 0.8009927797833934\n",
      "Events : 0.7107400722021661\n",
      "Adventure : 0.6768953068592057\n",
      "Comics : 0.6092057761732852\n",
      "Beauty : 0.5979241877256317\n",
      "Art & Design : 0.5979241877256317\n",
      "Parenting : 0.4963898916967509\n",
      "Card : 0.45126353790613716\n",
      "Casino : 0.42870036101083037\n",
      "Trivia : 0.41741877256317694\n",
      "Educational;Education : 0.39485559566787\n",
      "Board : 0.3835740072202166\n",
      "Educational : 0.3722924187725632\n",
      "Education;Education : 0.33844765342960287\n",
      "Word : 0.2594765342960289\n",
      "Casual;Pretend Play : 0.236913357400722\n",
      "Music : 0.2030685920577617\n",
      "Racing;Action & Adventure : 0.16922382671480143\n",
      "Puzzle;Brain Games : 0.16922382671480143\n",
      "Entertainment;Music & Video : 0.16922382671480143\n",
      "Casual;Brain Games : 0.13537906137184114\n",
      "Casual;Action & Adventure : 0.13537906137184114\n",
      "Arcade;Action & Adventure : 0.12409747292418773\n",
      "Action;Action & Adventure : 0.10153429602888085\n",
      "Educational;Pretend Play : 0.09025270758122744\n",
      "Simulation;Action & Adventure : 0.078971119133574\n",
      "Parenting;Education : 0.078971119133574\n",
      "Entertainment;Brain Games : 0.078971119133574\n",
      "Board;Brain Games : 0.078971119133574\n",
      "Parenting;Music & Video : 0.06768953068592057\n",
      "Educational;Brain Games : 0.06768953068592057\n",
      "Casual;Creativity : 0.06768953068592057\n",
      "Art & Design;Creativity : 0.06768953068592057\n",
      "Education;Pretend Play : 0.056407942238267145\n",
      "Role Playing;Pretend Play : 0.04512635379061372\n",
      "Education;Creativity : 0.04512635379061372\n",
      "Role Playing;Action & Adventure : 0.033844765342960284\n",
      "Puzzle;Action & Adventure : 0.033844765342960284\n",
      "Entertainment;Creativity : 0.033844765342960284\n",
      "Entertainment;Action & Adventure : 0.033844765342960284\n",
      "Educational;Creativity : 0.033844765342960284\n",
      "Educational;Action & Adventure : 0.033844765342960284\n",
      "Education;Music & Video : 0.033844765342960284\n",
      "Education;Brain Games : 0.033844765342960284\n",
      "Education;Action & Adventure : 0.033844765342960284\n",
      "Adventure;Action & Adventure : 0.033844765342960284\n",
      "Video Players & Editors;Music & Video : 0.02256317689530686\n",
      "Sports;Action & Adventure : 0.02256317689530686\n",
      "Simulation;Pretend Play : 0.02256317689530686\n",
      "Puzzle;Creativity : 0.02256317689530686\n",
      "Music;Music & Video : 0.02256317689530686\n",
      "Entertainment;Pretend Play : 0.02256317689530686\n",
      "Casual;Education : 0.02256317689530686\n",
      "Board;Action & Adventure : 0.02256317689530686\n",
      "Video Players & Editors;Creativity : 0.01128158844765343\n",
      "Trivia;Education : 0.01128158844765343\n",
      "Travel & Local;Action & Adventure : 0.01128158844765343\n",
      "Tools;Education : 0.01128158844765343\n",
      "Strategy;Education : 0.01128158844765343\n",
      "Strategy;Creativity : 0.01128158844765343\n",
      "Strategy;Action & Adventure : 0.01128158844765343\n",
      "Simulation;Education : 0.01128158844765343\n",
      "Role Playing;Brain Games : 0.01128158844765343\n",
      "Racing;Pretend Play : 0.01128158844765343\n",
      "Puzzle;Education : 0.01128158844765343\n",
      "Parenting;Brain Games : 0.01128158844765343\n",
      "Music & Audio;Music & Video : 0.01128158844765343\n",
      "Lifestyle;Pretend Play : 0.01128158844765343\n",
      "Lifestyle;Education : 0.01128158844765343\n",
      "Health & Fitness;Education : 0.01128158844765343\n",
      "Health & Fitness;Action & Adventure : 0.01128158844765343\n",
      "Entertainment;Education : 0.01128158844765343\n",
      "Communication;Creativity : 0.01128158844765343\n",
      "Comics;Creativity : 0.01128158844765343\n",
      "Casual;Music & Video : 0.01128158844765343\n",
      "Card;Action & Adventure : 0.01128158844765343\n",
      "Books & Reference;Education : 0.01128158844765343\n",
      "Art & Design;Pretend Play : 0.01128158844765343\n",
      "Art & Design;Action & Adventure : 0.01128158844765343\n",
      "Arcade;Pretend Play : 0.01128158844765343\n",
      "Adventure;Education : 0.01128158844765343\n"
     ]
    }
   ],
   "source": [
    "display_table(google_final, 9)"
   ]
  },
  {
   "cell_type": "markdown",
   "id": "c5e4ab96-96d3-4efa-869a-0c271ab11584",
   "metadata": {},
   "source": [
    "The most common genre is Tools, covering 8.45% of the free English apps. Entertainment follows with 6.07%, Education with 5.35%, Business with 4.59% and Productivity with 3.89. These genres form our top 5.\n",
    "\n",
    "We again find that there is a much larger balance between apps for entertainment and those for practical purposes, in comparison to the Apple market.\n",
    "\n",
    "We do however find that there is a much larger number of categories and that they are more specific in name. Most notably, there are a large number of categories with individually smaller percentages, however with names suggesting that they are games. As such, the `Category` column seems the better, more concise column to use for our analysis of the Google dataset, in conjunction with the `prime_genres` column of the Apple dataset."
   ]
  },
  {
   "cell_type": "markdown",
   "id": "64827a1f-d8ea-479e-9340-0e4b9938b4b2",
   "metadata": {},
   "source": [
    "## Most popular apps by genre on the Apple App Store\n",
    "\n",
    "One way to find out which genres are the most popular is to calculate the average number of installs for each app genre. For the Google dataset, we can use the `Installs` column, however there is no similar column in the Apple dataset. As a workaround, we'll use the average number of user ratings for each genre, which can be found using the `rating_count_tot` column.\n",
    "\n",
    "Below, we generate a frequency table for the `prime_genre` column of the Apple dataset.\n",
    "\n",
    "We then explore each genre of the frequency table, finding the rows in the overral dataset that match the genre. We do this to total the number of user ratings for each genre and then calculate the average number of user ratings for each genre."
   ]
  },
  {
   "cell_type": "code",
   "execution_count": 280,
   "id": "b5e05f3c-07bc-4c7b-92ba-e50b8df43494",
   "metadata": {},
   "outputs": [
    {
     "name": "stdout",
     "output_type": "stream",
     "text": [
      "The Social Networking genre has an average of 71548.34905660378 user ratings\n",
      "The Photo & Video genre has an average of 28441.54375 user ratings\n",
      "The Games genre has an average of 22788.6696905016 user ratings\n",
      "The Music genre has an average of 57326.530303030304 user ratings\n",
      "The Reference genre has an average of 74942.11111111111 user ratings\n",
      "The Health & Fitness genre has an average of 23298.015384615384 user ratings\n",
      "The Weather genre has an average of 52279.892857142855 user ratings\n",
      "The Utilities genre has an average of 18684.456790123455 user ratings\n",
      "The Travel genre has an average of 28243.8 user ratings\n",
      "The Shopping genre has an average of 26919.690476190477 user ratings\n",
      "The News genre has an average of 21248.023255813954 user ratings\n",
      "The Navigation genre has an average of 86090.33333333333 user ratings\n",
      "The Lifestyle genre has an average of 16485.764705882353 user ratings\n",
      "The Entertainment genre has an average of 14029.830708661417 user ratings\n",
      "The Food & Drink genre has an average of 33333.92307692308 user ratings\n",
      "The Sports genre has an average of 23008.898550724636 user ratings\n",
      "The Book genre has an average of 39758.5 user ratings\n",
      "The Finance genre has an average of 31467.944444444445 user ratings\n",
      "The Education genre has an average of 7003.983050847458 user ratings\n",
      "The Productivity genre has an average of 21028.410714285714 user ratings\n",
      "The Business genre has an average of 7491.117647058823 user ratings\n",
      "The Catalogs genre has an average of 4004.0 user ratings\n",
      "The Medical genre has an average of 612.0 user ratings\n"
     ]
    }
   ],
   "source": [
    "prime_genre_freq_table = freq_table(apple_final, 11)\n",
    "\n",
    "for genre in prime_genre_freq_table:\n",
    "    total = 0\n",
    "    len_genre = 0\n",
    "\n",
    "    for row in apple_final:\n",
    "        prime_genre = row[11]\n",
    "\n",
    "        if prime_genre == genre:\n",
    "            total_ratings = float(row[5])\n",
    "\n",
    "            total += total_ratings\n",
    "            len_genre += 1\n",
    "            \n",
    "    avg_ratings = total / len_genre\n",
    "\n",
    "    print(f\"The {genre} genre has an average of {avg_ratings} user ratings\")"
   ]
  },
  {
   "cell_type": "markdown",
   "id": "e94eb10b-898a-478c-be32-22656fdfd0c6",
   "metadata": {},
   "source": [
    "We find several genres that have an average number of user ratings over 50,000. These include Navigation, Social Networking, Reference, Music and Weather.\n",
    "\n",
    "Further investigation shows that in these categories, there are a few number of apps that skew the average, by having a very large number of user ratings individually. Across these categories, this includes apps such as Waze, Facebook, Dictionary.com and Spotify. As such, further investigation may be required to obtain a better picture of the market for these genres.\n",
    "\n",
    "The Games genre has an average of 22,788, which initially seems much lower than those mentioned above. However, given that over 58% of the free English apps in the Apple market are games, this is a strong average. Creating an enticing, enjoyable game could lead to a large number of users. \n",
    "\n",
    "With the Apple market dominated by entertainment apps, it may also be an idea to create an app for practical purposes. Both the Health & Fitness and Productivity genres could be a good fit for this idea as they can be gamified in nature, enticing users to return regularly. This may take the form of promoting regular exercise, starting/sustaining desirable habits or leaving behind undesirable ones. This could offer the opportunity to blend both the entertainment and practical markets into a successful app idea."
   ]
  },
  {
   "cell_type": "markdown",
   "id": "11371bb7-7da9-41d7-ba53-319d166172e9",
   "metadata": {},
   "source": [
    "## Most popular apps by genre on the Google Play Store\n",
    "\n",
    "Below we calculate the average number of installs for each genre of the Google market. \n",
    "\n",
    "We find that the install values are grouped rather than specific. For example, there are groups for 50+ installs, 100,000+, 1,000,000+ and even 1,000,000,000+. As this is not precise, we want to utilise the data to get a general idea of the user bases. As such, we will consider the groups on their numerical basis only - for example, 100,000+ will be considered strictly 100,000 and 1,000,000+ would be consided as strictly 1,000,000, even though the precise number could be higher.\n",
    "\n",
    "We follow a similar process to the Apple dataset above, however we need to format our install values by removing the `+` and `,` characters and then converting to a `float` for computation."
   ]
  },
  {
   "cell_type": "code",
   "execution_count": 281,
   "id": "00fd112c-88f4-4dfb-ba43-aa4756bf19a6",
   "metadata": {},
   "outputs": [
    {
     "name": "stdout",
     "output_type": "stream",
     "text": [
      "The ART_AND_DESIGN genre has 1986335.0877192982 average installs\n",
      "The AUTO_AND_VEHICLES genre has 647317.8170731707 average installs\n",
      "The BEAUTY genre has 513151.88679245283 average installs\n",
      "The BOOKS_AND_REFERENCE genre has 8767811.894736841 average installs\n",
      "The BUSINESS genre has 1712290.1474201474 average installs\n",
      "The COMICS genre has 817657.2727272727 average installs\n",
      "The COMMUNICATION genre has 38456119.167247385 average installs\n",
      "The DATING genre has 854028.8303030303 average installs\n",
      "The EDUCATION genre has 1833495.145631068 average installs\n",
      "The ENTERTAINMENT genre has 11640705.88235294 average installs\n",
      "The EVENTS genre has 253542.22222222222 average installs\n",
      "The FINANCE genre has 1387692.475609756 average installs\n",
      "The FOOD_AND_DRINK genre has 1924897.7363636363 average installs\n",
      "The HEALTH_AND_FITNESS genre has 4188821.9853479853 average installs\n",
      "The HOUSE_AND_HOME genre has 1331540.5616438356 average installs\n",
      "The LIBRARIES_AND_DEMO genre has 638503.734939759 average installs\n",
      "The LIFESTYLE genre has 1437816.2687861272 average installs\n",
      "The GAME genre has 15588015.603248259 average installs\n",
      "The FAMILY genre has 3695641.8198090694 average installs\n",
      "The MEDICAL genre has 120550.61980830671 average installs\n",
      "The SOCIAL genre has 23253652.127118643 average installs\n",
      "The SHOPPING genre has 7036877.311557789 average installs\n",
      "The PHOTOGRAPHY genre has 17840110.40229885 average installs\n",
      "The SPORTS genre has 3638640.1428571427 average installs\n",
      "The TRAVEL_AND_LOCAL genre has 13984077.710144928 average installs\n",
      "The TOOLS genre has 10801391.298666667 average installs\n",
      "The PERSONALIZATION genre has 5201482.6122448975 average installs\n",
      "The PRODUCTIVITY genre has 16787331.344927534 average installs\n",
      "The PARENTING genre has 542603.6206896552 average installs\n",
      "The WEATHER genre has 5074486.197183099 average installs\n",
      "The VIDEO_PLAYERS genre has 24727872.452830188 average installs\n",
      "The NEWS_AND_MAGAZINES genre has 9549178.467741935 average installs\n",
      "The MAPS_AND_NAVIGATION genre has 4056941.7741935486 average installs\n"
     ]
    }
   ],
   "source": [
    "category_freq_table = freq_table(google_final, 1)\n",
    "\n",
    "for category in category_freq_table:\n",
    "    total = 0\n",
    "    len_category = 0\n",
    "\n",
    "    for row in google_final:\n",
    "        app_category = row[1]\n",
    "\n",
    "        if app_category == category:\n",
    "            num_installs = row[5]\n",
    "            num_installs = num_installs.replace(\"+\", \"\")\n",
    "            num_installs = num_installs.replace(\",\", \"\")\n",
    "            \n",
    "            total += float(num_installs)\n",
    "            len_category += 1\n",
    "\n",
    "    avg_installs = total / len_category\n",
    "\n",
    "    print(f\"The {category} genre has {avg_installs} average installs\")"
   ]
  },
  {
   "cell_type": "markdown",
   "id": "5c8b809a-d54e-44e1-aef7-59efa82f309a",
   "metadata": {},
   "source": [
    "We find that on average, the Communication genre has the most installs, with a figure of over 38 million. Following this, we have Video Players with over 24 million, Social with over 23 million, Photography with over 17 million and Productivity with over 16 million. This forms our top 5.\n",
    "\n",
    "Similarly to the Apple market, many of these genres are dominated by individual apps that have an extremely large number of installs, often several hundred million or even more than a billion. This leaves us with the impression that we would need to compete with large organisations or extremely popular products to succeed.\n",
    "\n",
    "The Game genre has an average number of installs over 15 million. Similarly to the Apple market, this is a strong average given our discovery that the top 2 most common genres in the Google market (Family + Game) are in reality a combined game market. As such, creating an enjoyable, exciting game could lead to a large number of users.\n",
    "\n",
    "As we are looking for apps that will ultimately succeed on both markets, the Health and Fitness and Productivity markets also seem to be a great option for the Google store too. Gamifying the experience, perhaps to support health/wellness or take up a form of exercise, could lead to a large user base also."
   ]
  },
  {
   "cell_type": "markdown",
   "id": "575bc83d-2f9c-4d0a-b885-472ae84b7e42",
   "metadata": {},
   "source": [
    "## Conclusion\n",
    "\n",
    "We analysed data from the Apple App Store and Google Play Store markets, with the goal of recommending app profiles that can meet our business goals. \n",
    "\n",
    "We concluded that games are popular across the markets and form a large share of each. Although there are many games on each market already, the analysis showed strong numbers of average ratings and installs, leaving us the impression that a great game could still be a great option for a new app.\n",
    "\n",
    "We also looked at the potential to gamify an app in the Health and Fitness or Productivity markets, as both have smaller shares of their respective markets, and less individual app dominance compared to other categories. The prospect of blending these practical markets, with a gamified experience, offers a great opportunity to have success."
   ]
  }
 ],
 "metadata": {
  "kernelspec": {
   "display_name": "Python 3 (ipykernel)",
   "language": "python",
   "name": "python3"
  },
  "language_info": {
   "codemirror_mode": {
    "name": "ipython",
    "version": 3
   },
   "file_extension": ".py",
   "mimetype": "text/x-python",
   "name": "python",
   "nbconvert_exporter": "python",
   "pygments_lexer": "ipython3",
   "version": "3.11.1"
  }
 },
 "nbformat": 4,
 "nbformat_minor": 5
}
